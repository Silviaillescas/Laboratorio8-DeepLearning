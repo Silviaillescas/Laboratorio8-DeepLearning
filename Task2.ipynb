{
 "cells": [
  {
   "cell_type": "markdown",
   "id": "926a3e45",
   "metadata": {},
   "source": [
    "## Task 2"
   ]
  },
  {
   "cell_type": "markdown",
   "id": "e2971804",
   "metadata": {},
   "source": [
    "Responda claramente y con una extensión adecuada las siguientes preguntas:\n",
    "1. ¿Cuál es el problema del gradiente de fuga en las redes LSTM y cómo afecta la efectividad de LSTM para el pronóstico de series temporales?\n",
    "    El problema del gradiente de fuga en las redes LSTM ocurre cuando los valores que se propagan hacia atrás durante el entrenamiento se vuelven muy pequeños, lo que hace que las actualizaciones de los pesos sean casi nulas. Aunque las LSTM fueron diseñadas para mitigar este problema en comparación con las redes recurrentes simples, todavía puede presentarse si la red es muy profunda o los datos son complejos. En el caso del pronóstico de series temporales, este problema puede limitar la capacidad de la red para aprender dependencias de largo plazo, haciendo que se enfoque demasiado en patrones recientes y pierda efectividad al intentar capturar tendencias más prolongadas.\n",
    "\n",
    "2. ¿Cómo se aborda la estacionalidad en los datos de series temporales cuando se utilizan LSTM para realizar pronósticos y qué papel juega la diferenciación en el proceso?\n",
    "    La estacionalidad en series temporales representa patrones que se repiten con cierta periodicidad. Cuando se utilizan LSTM para pronósticos, esta estacionalidad se puede abordar transformando los datos, por ejemplo mediante diferenciación, que consiste en restar valores pasados a los actuales para eliminar tendencias y ciclos repetitivos. Esto ayuda a estabilizar la serie y facilita que el modelo capture las variaciones subyacentes sin “confundirse” por repeticiones cíclicas. En otras palabras, la diferenciación le da a la LSTM datos más “limpios” para que pueda reconocer tanto la estacionalidad como la tendencia.\n",
    "\n",
    "3. ¿Cuál es el concepto de \"tamaño de ventana\" en el pronóstico de series temporales con LSTM y cómo afecta la elección del tamaño de ventana a la capacidad del modelo para capturar patrones a corto y largo plazo?\n",
    "    El concepto de “tamaño de ventana” se refiere a cuántos datos pasados se toman en cuenta para que la LSTM aprenda y prediga el siguiente valor de la serie. Si la ventana es muy pequeña, el modelo puede perder información importante de tendencias más largas y quedarse solo con fluctuaciones locales. Si la ventana es demasiado grande, puede volverse más difícil entrenar la red y se corre el riesgo de ruido o sobreajuste. Por eso, elegir el tamaño adecuado de ventana es clave: determina el balance entre capturar patrones a corto plazo y a largo plazo.\n"
   ]
  }
 ],
 "metadata": {
  "language_info": {
   "name": "python"
  }
 },
 "nbformat": 4,
 "nbformat_minor": 5
}
